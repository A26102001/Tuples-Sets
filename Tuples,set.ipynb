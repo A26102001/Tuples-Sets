{
 "cells": [
  {
   "cell_type": "markdown",
   "id": "cd319378",
   "metadata": {},
   "source": [
    "#### 1.Write a Python Program to implement your own myreduce() function which works exactly like Python's built-in function reduce().\n"
   ]
  },
  {
   "cell_type": "code",
   "execution_count": 15,
   "id": "17f8abc7",
   "metadata": {},
   "outputs": [
    {
     "name": "stdout",
     "output_type": "stream",
     "text": [
      "Please Enter the number:10\n",
      "List of numbers [0, 1, 2, 3, 4, 5, 6, 7, 8, 9, 10]\n",
      "Sum of numbers 55\n"
     ]
    }
   ],
   "source": [
    "#Sum of  first n Natural numbers. Ask user for the input\n",
    "\n",
    "number=int(input(\"Please Enter the number:\" ))\n",
    "\n",
    "def myreduce(num):\n",
    "    num_list=list(range(0,number+1))\n",
    "    sum_ele=0\n",
    "    for i in num_list:\n",
    "        sum_ele+=i\n",
    "    return num_list,sum_ele\n",
    "\n",
    "\n",
    "output=myreduce(number)\n",
    "print('List of numbers',output[0])\n",
    "print('Sum of numbers',output[1])\n"
   ]
  },
  {
   "cell_type": "markdown",
   "id": "7159170d",
   "metadata": {},
   "source": [
    "#### 2.Write a Python program to implement your own myfilter() function which works exactly like Python's built-in function filter().\n"
   ]
  },
  {
   "cell_type": "code",
   "execution_count": 19,
   "id": "bee07981",
   "metadata": {},
   "outputs": [
    {
     "name": "stdout",
     "output_type": "stream",
     "text": [
      "Please Enter the number:10\n",
      "List of numbers: [1, 2, 3, 4, 5, 6, 7, 8, 9, 10]\n",
      "List of even numbers: [6]\n",
      "List of odd numbers: [3, 9]\n"
     ]
    }
   ],
   "source": [
    "# Filter even and odd number in list which are multiple of 3\n",
    "\n",
    "number=int(input(\"Please Enter the number:\" ))\n",
    "num_list=list(range(1,number+1))\n",
    "\n",
    "def myfilter(num):\n",
    "    num_even=[]\n",
    "    num_odd=[]\n",
    "    for i in num_list:\n",
    "        if i%3==0:\n",
    "            if i%2==0:\n",
    "                num_even.append(i)\n",
    "            else:\n",
    "                num_odd.append(i)\n",
    "    return num_even,num_odd\n",
    "output=myfilter(num_list)\n",
    "print(\"List of numbers:\",num_list)\n",
    "print(\"List of even numbers:\",output[0])\n",
    "print(\"List of odd numbers:\",output[1])"
   ]
  },
  {
   "cell_type": "markdown",
   "id": "c9a24844",
   "metadata": {},
   "source": [
    "#### 3.Implement List comprehensions to produce the following lists.Write List comprehensions to produce the following Lists\n",
    "['A', 'C', 'A', 'D', 'G', 'I', ’L’, ‘ D’]\n",
    "['x', 'xx', 'xxx', 'xxxx', 'y', 'yy', 'yyy', 'yyyy', 'z', 'zz', 'zzz', 'zzzz']\n",
    "['x', 'y', 'z', 'xx', 'yy', 'zz', 'xxx', 'yyy', 'zzz', 'xxxx', 'yyyy', 'zzzz']\n",
    "[[2], [3], [4], [3], [4], [5], [4], [5], [6]] [[2, 3, 4, 5], [3, 4, 5, 6],\n",
    "[4, 5, 6, 7], [5, 6, 7, 8]]\n",
    "[(1, 1), (2, 1), (3, 1), (1, 2), (2, 2), (3, 2), (1, 3), (2, 3), (3, 3\n"
   ]
  },
  {
   "cell_type": "code",
   "execution_count": 22,
   "id": "de592881",
   "metadata": {},
   "outputs": [
    {
     "name": "stdout",
     "output_type": "stream",
     "text": [
      "Output: ['A', 'C', 'A', 'D', 'G', 'I', 'L', 'D']\n",
      "['x', 'xx', 'xxx', 'xxxx', 'y', 'yy', 'yyy', 'yyyy', 'z', 'zz', 'zzz', 'zzzz']\n",
      "['x', 'y', 'z', 'xx', 'yy', 'zz', 'xxx', 'yyy', 'zzz', 'xxxx', 'yyyy', 'zzzz']\n",
      "[[2], [3], [4], [3], [4], [5], [4], [5], [6]]\n",
      "[[2, 3, 4, 5], [3, 4, 5, 6], [4, 5, 6, 7], [5, 6, 7, 8]]\n",
      "[(1, 1), (2, 1), (3, 1), (1, 2), (2, 2), (3, 2), (1, 3), (2, 3), (3, 3)]\n"
     ]
    }
   ],
   "source": [
    "\n",
    "\n",
    "#List 1\n",
    "List=\"AcadGild\"\n",
    "#list Comprehension\n",
    "output=[L.upper() for L in list(List)]\n",
    "\n",
    "print(\"Output:\",output)\n",
    "\n",
    "#List 2\n",
    "xyz_1=list('xyz')\n",
    "xyz_2=[x*n for x in xyz_1 for n in range(1,5) ]\n",
    "print(xyz_2)\n",
    "\n",
    "# List 3\n",
    "X_3=[x*n for n in range(1,5) for x in xyz_1 ]\n",
    "print(X_3)\n",
    "\n",
    "#List 4\n",
    "number=[2,3,4]\n",
    "number_1=[[x+n] for x in number for n in range(0,3)]\n",
    "print(number_1)\n",
    "\n",
    "#List 5\n",
    "number_2=[2,3,4,5]\n",
    "number_3=[[x+n for n in range(0,4)] for x in number_2 ]\n",
    "print(number_3)\n",
    "\n",
    "#List 6\n",
    "number_4=[1,2,3]\n",
    "number_5= [(b,a) for a in number_4 for b in number_4]\n",
    "print(number_5)"
   ]
  },
  {
   "cell_type": "code",
   "execution_count": null,
   "id": "33ee5f68",
   "metadata": {},
   "outputs": [],
   "source": []
  }
 ],
 "metadata": {
  "kernelspec": {
   "display_name": "Python 3",
   "language": "python",
   "name": "python3"
  },
  "language_info": {
   "codemirror_mode": {
    "name": "ipython",
    "version": 3
   },
   "file_extension": ".py",
   "mimetype": "text/x-python",
   "name": "python",
   "nbconvert_exporter": "python",
   "pygments_lexer": "ipython3",
   "version": "3.8.8"
  }
 },
 "nbformat": 4,
 "nbformat_minor": 5
}
